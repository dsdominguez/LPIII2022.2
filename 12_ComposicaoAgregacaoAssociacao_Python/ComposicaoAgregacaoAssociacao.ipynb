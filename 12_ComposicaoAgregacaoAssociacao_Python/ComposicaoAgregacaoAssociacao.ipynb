{
 "cells": [
  {
   "cell_type": "markdown",
   "id": "2aeb3eba",
   "metadata": {},
   "source": [
    "## Composição, Agregação e Associação de Classes em Python\n",
    "\n",
    "Os relacionamentos entre classes ou associação de classes é um dos mais importantes conceitos em POO. O desenvolvimento de projetos robustos, consistentes e bem estruturados depende fortemente da clara compreensão entre estes conceitos. Existem três alternativas para criar associações de classes: (i) Composição, (ii) Agregação e (iii) Associação, cada uma delas define as regras de comunicação entre as classes, e o ciclo de vida entre os objetos. \n",
    "\n",
    "Inicialmente criamos uma classe base `Data`.\n"
   ]
  },
  {
   "cell_type": "code",
   "execution_count": 25,
   "id": "3895fe36",
   "metadata": {},
   "outputs": [],
   "source": [
    "class Data:\n",
    "    __MONTHS = [\"Janeiro\", \"Fevereiro\", \"Março\", \"Abril\", \"Maio\", \"Junho\", \n",
    "              \"Julho\", \"Agosto\", \"Setembro\", \"Outubro\", \"Novembro\", \"Dezembro\"]\n",
    "    \n",
    "    def __init__(self, dia, mes, ano):\n",
    "        if(self.__verifyData(dia, mes, ano)):\n",
    "            self.__dia = dia\n",
    "            self.__mes = mes\n",
    "            self.__ano = ano\n",
    "        else:\n",
    "            self.__dia = 1\n",
    "            self.__mes = 1\n",
    "            self.__ano = 1900\n",
    "        \n",
    "    def __verifyData(self, dia, mes, ano):\n",
    "        if (dia < 1 or dia > 31):\n",
    "            return False;\n",
    "        elif (mes < 1 or mes > 12):\n",
    "            return False;\n",
    "        elif (ano<1900):\n",
    "            return False;\n",
    "        return True;\n",
    "        \n",
    "    def toStringShort(self):\n",
    "        return str(self.__dia) + \"/\" + str(self.__mes) + \"/\" + str(self.__ano)\n",
    "    \n",
    "    def toStringLong(self):\n",
    "        return str(self.__dia) + \" de \" + self.__MONTHS[self.__mes-1] + \" de \" + str(self.__ano)\n",
    "    "
   ]
  },
  {
   "cell_type": "code",
   "execution_count": 26,
   "id": "97802684",
   "metadata": {},
   "outputs": [
    {
     "name": "stdout",
     "output_type": "stream",
     "text": [
      "29/5/2022\n",
      "29 de Maio de 2022\n",
      "1/1/1900\n",
      "1 de Janeiro de 1900\n"
     ]
    }
   ],
   "source": [
    "a = Data(29, 5, 2022)\n",
    "b = Data(-1, 5, 2022)\n",
    "print(a.toStringShort())\n",
    "print(a.toStringLong())\n",
    "print(b.toStringShort())\n",
    "print(b.toStringLong())"
   ]
  },
  {
   "cell_type": "markdown",
   "id": "6bbfc59d",
   "metadata": {},
   "source": [
    "### Composição\n",
    "\n",
    "Define o tipo mais forte e restritivo de relacionamento. Temos composição quando uma classe pode referenciar um ou mais objetos de outra classe dentro de sua variável de instância. Na composição, o ciclo de vida dos objetos esta acoplado, e eles não podem existir de forma independente. As operações do objeto base são delegadas ao objeto composto.\n",
    "\n",
    "Composição define um relacionamento *Tudo-Parte* entre dois objetos.\n",
    "\n",
    "Usamos composição para criar nossa classe `DataFeriado` (__Classe composta__) usando a classe `Data` (__Classe base ou componente__)"
   ]
  },
  {
   "cell_type": "code",
   "execution_count": 27,
   "id": "d8973e82",
   "metadata": {},
   "outputs": [],
   "source": [
    "class DataFeriadoComp:\n",
    "    \n",
    "    def __init__(self, dia, mes, ano, nomeFeriado):\n",
    "        self.__data = Data(dia, mes, ano)\n",
    "        if (nomeFeriado != None):\n",
    "            self.__nomeFeriado = nomeFeriado           \n",
    "        else:\n",
    "            self.__nomeFeriado = \"Sem nome\"\n",
    "            \n",
    "            \n",
    "    def toString(self):\n",
    "        return self.__data.toStringLong() + \", \" + self.__nomeFeriado"
   ]
  },
  {
   "cell_type": "code",
   "execution_count": 30,
   "id": "6be26920",
   "metadata": {
    "scrolled": true
   },
   "outputs": [
    {
     "name": "stdout",
     "output_type": "stream",
     "text": [
      "16 de Junho de 2022, Corpus Christi\n"
     ]
    },
    {
     "ename": "AttributeError",
     "evalue": "'DataFeriadoComp' object has no attribute '__data'",
     "output_type": "error",
     "traceback": [
      "\u001b[1;31m---------------------------------------------------------------------------\u001b[0m",
      "\u001b[1;31mAttributeError\u001b[0m                            Traceback (most recent call last)",
      "\u001b[1;32m<ipython-input-30-1033edaa85b1>\u001b[0m in \u001b[0;36m<module>\u001b[1;34m\u001b[0m\n\u001b[0;32m      3\u001b[0m \u001b[1;33m\u001b[0m\u001b[0m\n\u001b[0;32m      4\u001b[0m \u001b[1;31m#c.toStringLong()\u001b[0m\u001b[1;33m\u001b[0m\u001b[1;33m\u001b[0m\u001b[1;33m\u001b[0m\u001b[0m\n\u001b[1;32m----> 5\u001b[1;33m \u001b[0mc\u001b[0m\u001b[1;33m.\u001b[0m\u001b[0m__data\u001b[0m\u001b[1;33m.\u001b[0m\u001b[0mtoStringLong\u001b[0m\u001b[1;33m(\u001b[0m\u001b[1;33m)\u001b[0m\u001b[1;33m\u001b[0m\u001b[1;33m\u001b[0m\u001b[0m\n\u001b[0m",
      "\u001b[1;31mAttributeError\u001b[0m: 'DataFeriadoComp' object has no attribute '__data'"
     ]
    }
   ],
   "source": [
    "c = DataFeriadoComp(16, 6, 2022, \"Corpus Christi\")\n",
    "print(c.toString())\n",
    "\n",
    "#c.toStringLong()\n",
    "c.__data.toStringLong()"
   ]
  },
  {
   "cell_type": "markdown",
   "id": "602c7644",
   "metadata": {},
   "source": [
    "### Agregação\n",
    "\n",
    "Agregação define um relacionamento unidirecional, onde um objeto pode acessar outro objeto que existe de forma independente. O ciclo de vida dos objetos é desacoplado, e eles são instanciados de forma independente. O acesso aos métodos do objeto base é delegado ao objeto agregado. Novamente temos uma relação *Tudo-parte* entre dois objetos.\n",
    "\n",
    "Usamos agregação para criar uma nova versão da classe `DataFeriado`  (__Classe agregada__) usando a classe `Data` (__Classe base__)."
   ]
  },
  {
   "cell_type": "code",
   "execution_count": 11,
   "id": "8639642c",
   "metadata": {},
   "outputs": [],
   "source": [
    "class DataFeriadoAgreg:\n",
    "    \n",
    "    def __init__(self, data, nomeFeriado):\n",
    "        self.__data = data\n",
    "        if (nomeFeriado != None):\n",
    "            self.__nomeFeriado = nomeFeriado           \n",
    "        else:\n",
    "            self.__nomeFeriado = \"Sem nome\"\n",
    "            \n",
    "            \n",
    "    def toString(self):\n",
    "        return  self.__data.toStringLong() + \", \" + self.__nomeFeriado"
   ]
  },
  {
   "cell_type": "code",
   "execution_count": 32,
   "id": "1ac31137",
   "metadata": {},
   "outputs": [
    {
     "name": "stdout",
     "output_type": "stream",
     "text": [
      "16 de Junho de 2022, Corpus Christi\n",
      "16 de Junho de 2022\n"
     ]
    },
    {
     "ename": "AttributeError",
     "evalue": "'DataFeriadoAgreg' object has no attribute '__data'",
     "output_type": "error",
     "traceback": [
      "\u001b[1;31m---------------------------------------------------------------------------\u001b[0m",
      "\u001b[1;31mAttributeError\u001b[0m                            Traceback (most recent call last)",
      "\u001b[1;32m<ipython-input-32-e90226564647>\u001b[0m in \u001b[0;36m<module>\u001b[1;34m\u001b[0m\n\u001b[0;32m      5\u001b[0m \u001b[1;33m\u001b[0m\u001b[0m\n\u001b[0;32m      6\u001b[0m \u001b[0mprint\u001b[0m\u001b[1;33m(\u001b[0m\u001b[0md\u001b[0m\u001b[1;33m.\u001b[0m\u001b[0mtoStringLong\u001b[0m\u001b[1;33m(\u001b[0m\u001b[1;33m)\u001b[0m\u001b[1;33m)\u001b[0m\u001b[1;33m\u001b[0m\u001b[1;33m\u001b[0m\u001b[0m\n\u001b[1;32m----> 7\u001b[1;33m \u001b[0me\u001b[0m\u001b[1;33m.\u001b[0m\u001b[0m__data\u001b[0m\u001b[1;33m.\u001b[0m\u001b[0mtoStringLong\u001b[0m\u001b[1;33m(\u001b[0m\u001b[1;33m)\u001b[0m\u001b[1;33m\u001b[0m\u001b[1;33m\u001b[0m\u001b[0m\n\u001b[0m",
      "\u001b[1;31mAttributeError\u001b[0m: 'DataFeriadoAgreg' object has no attribute '__data'"
     ]
    }
   ],
   "source": [
    "d = Data(16, 6, 2022)\n",
    "e = DataFeriadoAgreg(d, \"Corpus Christi\")\n",
    "\n",
    "print(e.toString())\n",
    "\n",
    "print(d.toStringLong())\n",
    "e.__data.toStringLong()"
   ]
  },
  {
   "cell_type": "markdown",
   "id": "a6b17e47",
   "metadata": {},
   "source": [
    "### Associação\n",
    "\n",
    "O relacionamento associação entre clases, é o tipo de relacionamento menos restritivo (mais fraco), o relacionamento é estabelecido apenas entre instancias. Cada um dos objetos tem ciclo de vida independente, e não existe um objeto dono ou principal. Cada objeto é responsável por executar seus métodos, não existe delegação de responsabilidades.\n",
    "\n",
    "O relacionamento de associação pode ser do tipo *um-para-um*, *um-para-muitos*, *muitos-para-um* ou *muitos-para-muitos*.\n",
    "\n",
    "Implementamos uma nova versão da classe `DataFeriado` usando associação."
   ]
  },
  {
   "cell_type": "code",
   "execution_count": 18,
   "id": "e74c283c",
   "metadata": {},
   "outputs": [],
   "source": [
    "class DataFeriadoAssoc:\n",
    "    \n",
    "    def __init__(self, data, nomeFeriado):\n",
    "        self.__data = data\n",
    "        #self.data = data\n",
    "        if (nomeFeriado != None):\n",
    "            self.__nomeFeriado = nomeFeriado           \n",
    "        else:\n",
    "            self.__nomeFeriado = \"Sem nome\"\n",
    "            \n",
    "            \n",
    "    def toString(self):\n",
    "        return  \", \" + self.__nomeFeriado"
   ]
  },
  {
   "cell_type": "code",
   "execution_count": 33,
   "id": "184de807",
   "metadata": {},
   "outputs": [
    {
     "name": "stdout",
     "output_type": "stream",
     "text": [
      "16 de Junho de 2022, Corpus Christi\n"
     ]
    }
   ],
   "source": [
    "f = Data(16, 6, 2022)\n",
    "g = DataFeriadoAssoc(f, \"Corpus Christi\")\n",
    "\n",
    "print(f.toStringLong() + g.toString())\n",
    "\n",
    "#print(g.data.toStringLong() + g.toString())"
   ]
  }
 ],
 "metadata": {
  "kernelspec": {
   "display_name": "Python 3",
   "language": "python",
   "name": "python3"
  },
  "language_info": {
   "codemirror_mode": {
    "name": "ipython",
    "version": 3
   },
   "file_extension": ".py",
   "mimetype": "text/x-python",
   "name": "python",
   "nbconvert_exporter": "python",
   "pygments_lexer": "ipython3",
   "version": "3.8.8"
  }
 },
 "nbformat": 4,
 "nbformat_minor": 5
}
