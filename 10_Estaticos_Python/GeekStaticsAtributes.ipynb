{
 "cells": [
  {
   "cell_type": "code",
   "execution_count": 6,
   "id": "190b8a88",
   "metadata": {},
   "outputs": [],
   "source": [
    "# Class for Computer Science Student\n",
    "class CSStudent:\n",
    "    courseName = 'POO'                  # Class atribute, is a public atributte\n",
    "    \n",
    "    def __init__(self,name,roll):\n",
    "        self.__name = name            # Instance atribute, is a private atributte\n",
    "        self.__roll = roll            # Instance atribute, is a private atributte\n",
    "        \n",
    "    def prnStudent(self):\n",
    "        print(f\"Class: {self.courseName}, Name: {self.__name}, Roll: {self.__roll}.\")"
   ]
  },
  {
   "cell_type": "code",
   "execution_count": 7,
   "id": "07edab4e",
   "metadata": {},
   "outputs": [
    {
     "name": "stdout",
     "output_type": "stream",
     "text": [
      "Class: POO, Name: Geek, Roll: 1.\n",
      "Class: POO, Name: Nerd, Roll: 2.\n",
      "Class: POO, Name: Fool, Roll: 3.\n"
     ]
    }
   ],
   "source": [
    "# Objects of CSStudent class\n",
    "a = CSStudent('Geek', 1)\n",
    "b = CSStudent('Nerd', 2)\n",
    "c = CSStudent('Fool', 3)\n",
    " \n",
    "# Printing atributes    \n",
    "a.prnStudent();\n",
    "b.prnStudent();\n",
    "c.prnStudent();"
   ]
  },
  {
   "cell_type": "code",
   "execution_count": 9,
   "id": "451ec922",
   "metadata": {},
   "outputs": [
    {
     "name": "stdout",
     "output_type": "stream",
     "text": [
      "POO\n"
     ]
    }
   ],
   "source": [
    "# Class atributtes can be accessed using class\n",
    "print(CSStudent.courseName) # prints \"POO\"\n",
    " "
   ]
  },
  {
   "cell_type": "code",
   "execution_count": 10,
   "id": "cfcbb553",
   "metadata": {},
   "outputs": [
    {
     "name": "stdout",
     "output_type": "stream",
     "text": [
      "Class: DE, Name: Geek, Roll: 1.\n",
      "Class: POO, Name: Nerd, Roll: 2.\n",
      "Class: POO, Name: Fool, Roll: 3.\n"
     ]
    }
   ],
   "source": [
    "# Now if we change the stream for just a it won't be changed for b\n",
    "a.courseName = 'DE'\n",
    "a.prnStudent();\n",
    "b.prnStudent();\n",
    "c.prnStudent(); \n"
   ]
  },
  {
   "cell_type": "code",
   "execution_count": 11,
   "id": "9c9242ed",
   "metadata": {},
   "outputs": [
    {
     "name": "stdout",
     "output_type": "stream",
     "text": [
      "Class: DE, Name: Geek, Roll: 1.\n",
      "Class: PAA, Name: Nerd, Roll: 2.\n",
      "Class: PAA, Name: Fool, Roll: 3.\n"
     ]
    }
   ],
   "source": [
    "# To change the stream for all instances of the class we can change it\n",
    "# directly from the class\n",
    "CSStudent.courseName = 'PAA'\n",
    " \n",
    "a.prnStudent();\n",
    "b.prnStudent();\n",
    "c.prnStudent();"
   ]
  }
 ],
 "metadata": {
  "kernelspec": {
   "display_name": "Python 3",
   "language": "python",
   "name": "python3"
  },
  "language_info": {
   "codemirror_mode": {
    "name": "ipython",
    "version": 3
   },
   "file_extension": ".py",
   "mimetype": "text/x-python",
   "name": "python",
   "nbconvert_exporter": "python",
   "pygments_lexer": "ipython3",
   "version": "3.8.8"
  }
 },
 "nbformat": 4,
 "nbformat_minor": 5
}
