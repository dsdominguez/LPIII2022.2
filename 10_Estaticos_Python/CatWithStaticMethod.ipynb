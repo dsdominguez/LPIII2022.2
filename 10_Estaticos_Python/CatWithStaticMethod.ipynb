{
 "cells": [
  {
   "cell_type": "code",
   "execution_count": 1,
   "id": "87b306e4",
   "metadata": {},
   "outputs": [],
   "source": [
    "#Class Cat\n",
    "class CatStatic:\n",
    "    \n",
    "    #Constructor - example method overload\n",
    "    def __init__(self, name = None, age = -1):\n",
    "        if (name != None):\n",
    "            self.__name = name\n",
    "        else:    \n",
    "            self.__name = \"SemNome\"\n",
    "            \n",
    "        if(age != -1):\n",
    "            self.__age = age\n",
    "        else:\n",
    "            self.__age = 0\n",
    "        \n",
    "    #Print cat\n",
    "    def info(self):\n",
    "        print(f\"I am a cat. My name is {self.__name}. I am {self.__age} years old.\")\n",
    "        \n",
    "    #Static method\n",
    "    @staticmethod \n",
    "    def makeSound():\n",
    "        print(\"Meow!!!\")"
   ]
  },
  {
   "cell_type": "code",
   "execution_count": 3,
   "id": "f02d01ea",
   "metadata": {},
   "outputs": [
    {
     "name": "stdout",
     "output_type": "stream",
     "text": [
      "I am a cat. My name is Kayla. I am 2 years old.\n",
      "Meow!!!\n",
      "Meow!!!\n"
     ]
    },
    {
     "ename": "TypeError",
     "evalue": "info() missing 1 required positional argument: 'self'",
     "output_type": "error",
     "traceback": [
      "\u001b[1;31m---------------------------------------------------------------------------\u001b[0m",
      "\u001b[1;31mTypeError\u001b[0m                                 Traceback (most recent call last)",
      "\u001b[1;32m<ipython-input-3-c169db963639>\u001b[0m in \u001b[0;36m<module>\u001b[1;34m\u001b[0m\n\u001b[0;32m      6\u001b[0m \u001b[1;31m#Using static method with class definition\u001b[0m\u001b[1;33m\u001b[0m\u001b[1;33m\u001b[0m\u001b[1;33m\u001b[0m\u001b[0m\n\u001b[0;32m      7\u001b[0m \u001b[0mCatStatic\u001b[0m\u001b[1;33m.\u001b[0m\u001b[0mmakeSound\u001b[0m\u001b[1;33m(\u001b[0m\u001b[1;33m)\u001b[0m\u001b[1;33m\u001b[0m\u001b[1;33m\u001b[0m\u001b[0m\n\u001b[1;32m----> 8\u001b[1;33m \u001b[0mCatStatic\u001b[0m\u001b[1;33m.\u001b[0m\u001b[0minfo\u001b[0m\u001b[1;33m(\u001b[0m\u001b[1;33m)\u001b[0m\u001b[1;33m\u001b[0m\u001b[1;33m\u001b[0m\u001b[0m\n\u001b[0m",
      "\u001b[1;31mTypeError\u001b[0m: info() missing 1 required positional argument: 'self'"
     ]
    }
   ],
   "source": [
    "#Using static method with instance\n",
    "cat1 = CatStatic('Kayla', 2)\n",
    "cat1.info()\n",
    "cat1.makeSound()\n",
    "\n",
    "#Using static method with class definition\n",
    "CatStatic.makeSound()\n",
    "#CatStatic.info()"
   ]
  }
 ],
 "metadata": {
  "kernelspec": {
   "display_name": "Python 3",
   "language": "python",
   "name": "python3"
  },
  "language_info": {
   "codemirror_mode": {
    "name": "ipython",
    "version": 3
   },
   "file_extension": ".py",
   "mimetype": "text/x-python",
   "name": "python",
   "nbconvert_exporter": "python",
   "pygments_lexer": "ipython3",
   "version": "3.8.8"
  }
 },
 "nbformat": 4,
 "nbformat_minor": 5
}
