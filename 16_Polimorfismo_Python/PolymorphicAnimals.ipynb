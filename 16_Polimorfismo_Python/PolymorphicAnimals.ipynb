{
 "cells": [
  {
   "cell_type": "code",
   "execution_count": 1,
   "id": "14c5062e",
   "metadata": {},
   "outputs": [],
   "source": [
    "class Animal:\n",
    "    \n",
    "    def __init__(self, name):\n",
    "        self._name = name\n",
    "        \n",
    "    def animalSound(self):\n",
    "        return \"The animal makes a sound\""
   ]
  },
  {
   "cell_type": "code",
   "execution_count": 2,
   "id": "1e69a000",
   "metadata": {},
   "outputs": [],
   "source": [
    "class Dog(Animal):\n",
    "    \n",
    "    def __init__(self, name):\n",
    "        Animal.__init__(self, name)\n",
    "        \n",
    "    def animalSound(self):\n",
    "        return (f'The dog {self._name} says: wow wow')    "
   ]
  },
  {
   "cell_type": "code",
   "execution_count": 3,
   "id": "89756f11",
   "metadata": {},
   "outputs": [],
   "source": [
    "class Pig(Animal):\n",
    "    \n",
    "    def __init__(self, name):\n",
    "        Animal.__init__(self, name)\n",
    "        \n",
    "    def animalSound(self):\n",
    "        return (f'The pig {self._name} says: wee wee')  "
   ]
  },
  {
   "cell_type": "code",
   "execution_count": 4,
   "id": "33c365bf",
   "metadata": {},
   "outputs": [],
   "source": [
    "class Cat(Animal):\n",
    "    \n",
    "    def __init__(self, name):\n",
    "        Animal.__init__(self, name)\n",
    "        \n",
    "    def animalSound(self):\n",
    "        return (f'The cat {self._name} says: miau miau') "
   ]
  },
  {
   "cell_type": "code",
   "execution_count": 5,
   "id": "ceba622f",
   "metadata": {},
   "outputs": [
    {
     "name": "stdout",
     "output_type": "stream",
     "text": [
      "The dog Jonhy says: wow wow\n",
      "The cat Sony says: miau miau\n",
      "The pig Piggy says: wee wee\n"
     ]
    }
   ],
   "source": [
    "myAnimals = [Dog(\"Jonhy\"), Cat(\"Sony\"), Pig(\"Piggy\")]\n",
    "\n",
    "for animal in myAnimals:\n",
    "    print(animal.animalSound())\n"
   ]
  }
 ],
 "metadata": {
  "kernelspec": {
   "display_name": "Python 3 (ipykernel)",
   "language": "python",
   "name": "python3"
  },
  "language_info": {
   "codemirror_mode": {
    "name": "ipython",
    "version": 3
   },
   "file_extension": ".py",
   "mimetype": "text/x-python",
   "name": "python",
   "nbconvert_exporter": "python",
   "pygments_lexer": "ipython3",
   "version": "3.8.10"
  }
 },
 "nbformat": 4,
 "nbformat_minor": 5
}
