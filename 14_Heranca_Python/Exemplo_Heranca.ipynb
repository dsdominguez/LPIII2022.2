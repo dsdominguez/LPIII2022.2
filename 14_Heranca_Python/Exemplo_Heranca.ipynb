{
 "cells": [
  {
   "cell_type": "code",
   "execution_count": null,
   "id": "1dff4e17",
   "metadata": {},
   "outputs": [],
   "source": [
    "class Data:\n",
    "    __MONTHS = [\"Janeiro\", \"Fevereiro\", \"Março\", \"Abril\", \"Maio\", \"Junho\", \n",
    "              \"Julho\", \"Agosto\", \"Setembro\", \"Outubro\", \"Novembro\", \"Dezembro\"]\n",
    "    \n",
    "    def __init__(self, dia, mes, ano):\n",
    "        if(self.__verifyData(dia, mes, ano)):\n",
    "            self.__dia = dia\n",
    "            self.__mes = mes\n",
    "            self.__ano = ano\n",
    "        else:\n",
    "            self.__dia = 1\n",
    "            self.__mes = 1\n",
    "            self.__ano = 1900\n",
    "        \n",
    "    def __verifyData(self, dia, mes, ano):\n",
    "        if (dia < 1 or dia > 31):\n",
    "            return False;\n",
    "        elif (mes < 1 or mes > 12):\n",
    "            return False;\n",
    "        elif (ano<1900):\n",
    "            return False;\n",
    "        return True;\n",
    "        \n",
    "    def toStringShort(self):\n",
    "        return str(self.__dia) + \"/\" + str(self.__mes) + \"/\" + str(self.__ano)\n",
    "    \n",
    "    def toStringLong(self):\n",
    "        return str(self.__dia) + \" de \" + self.__MONTHS[self.__mes] + \" de \" + str(self.__ano)"
   ]
  },
  {
   "cell_type": "code",
   "execution_count": null,
   "id": "01fb5fe9",
   "metadata": {},
   "outputs": [],
   "source": [
    "class Pessoa:\n",
    "     \n",
    "        def __init__(self, nome, id, dataNascimento):\n",
    "            #print(f'{nome}, {id}, {dataNascimento.toStringShort()}')\n",
    "            self.__dataNascimento = dataNascimento\n",
    "            self.__nome = nome\n",
    "            self.__id = id\n",
    "            \n",
    "            \n",
    "        def toString(self):\n",
    "            return  (f'Nome: {self.__nome} \\nIdentidade: {self.__id} \\nNascimento: {self.__dataNascimento.toStringLong()}\\n')"
   ]
  },
  {
   "cell_type": "code",
   "execution_count": null,
   "id": "dd514b3e",
   "metadata": {},
   "outputs": [],
   "source": [
    "dataNasc = Data(30, 11, 1975)\n",
    "pessoaSimple = Pessoa(\"Jose Cuervo\", 234517, dataNasc)\n",
    "print(f'PESSOA \\n{pessoaSimple.toString()}')"
   ]
  },
  {
   "cell_type": "code",
   "execution_count": null,
   "id": "6b3e57b3",
   "metadata": {},
   "outputs": [],
   "source": [
    "class Funcionario(Pessoa):\n",
    "    \n",
    "    def __init__(self, nome, id, dataNascimento, dataAdmissao, salario):\n",
    "        Pessoa.__init__(self, nome, id, dataNascimento)\n",
    "        #super().__init__(nome, id, dataNascimento)\n",
    "        self.__dataAdmissao = dataAdmissao\n",
    "        self.__salario = salario\n",
    "        \n",
    "    def toString(self):\n",
    "        strAux = Pessoa.toString(self)\n",
    "        #strAux = super().toString()\n",
    "        return (f'{strAux}Data de admissão: {self.__dataAdmissao.toStringLong()}\\nSalário: R$ {self.__salario}\\n')\n",
    "        \n",
    "    "
   ]
  },
  {
   "cell_type": "code",
   "execution_count": null,
   "id": "1c6dcfa8",
   "metadata": {},
   "outputs": [],
   "source": [
    "dataAdm = Data(18, 2, 2005)\n",
    "pessoaFuncionario = Funcionario(\"Jose Cuervo\", 234517, dataNasc, dataAdm, 3500)\n",
    "print(f'FUNCIONARIO \\n{pessoaFuncionario.toString()}')"
   ]
  },
  {
   "cell_type": "code",
   "execution_count": null,
   "id": "9cc9452e",
   "metadata": {},
   "outputs": [],
   "source": [
    "class ChefeDeDepartamento(Funcionario):\n",
    "    \n",
    "    def __init__(self, nome, id, dataNascimento, dataAdmissao, salario, departamento, dataPromocao):\n",
    "        Funcionario.__init__(self, nome, id, dataNascimento, dataAdmissao, salario)\n",
    "        self.__departamento = departamento\n",
    "        self.__dataPromocao = dataPromocao\n",
    "        \n",
    "    def toString(self):\n",
    "        strAux = Funcionario.toString(self)\n",
    "        return (f'{strAux}Departamento: {self.__departamento}\\nData de promoção ao cargo: {self.__dataPromocao.toStringLong()}\\n')"
   ]
  },
  {
   "cell_type": "code",
   "execution_count": null,
   "id": "2e016a3c",
   "metadata": {},
   "outputs": [],
   "source": [
    "dataPromo = Data(22, 3, 2018)\n",
    "pessoaChefeDeDepartamento = ChefeDeDepartamento(\"Jose Cuervo\", 234517, dataNasc, dataAdm, 3500, \"CCAM\", dataPromo)\n",
    "print(f'CHEFE DE DEPARTAMENTO \\n{pessoaChefeDeDepartamento.toString()}')"
   ]
  }
 ],
 "metadata": {
  "kernelspec": {
   "display_name": "Python 3 (ipykernel)",
   "language": "python",
   "name": "python3"
  },
  "language_info": {
   "codemirror_mode": {
    "name": "ipython",
    "version": 3
   },
   "file_extension": ".py",
   "mimetype": "text/x-python",
   "name": "python",
   "nbconvert_exporter": "python",
   "pygments_lexer": "ipython3",
   "version": "3.8.10"
  }
 },
 "nbformat": 4,
 "nbformat_minor": 5
}
