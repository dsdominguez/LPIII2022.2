{
 "cells": [
  {
   "cell_type": "code",
   "execution_count": 1,
   "id": "aff0344b",
   "metadata": {},
   "outputs": [],
   "source": [
    "#Exemplo dos métodos especiais new e init\n",
    "class Cat:\n",
    "    def __new__(cls, *args, **kwargs):\n",
    "        print(\"Step 1. Create a new instance of Cat1\")\n",
    "        return super().__new__(cls)\n",
    "    \n",
    "    def __init__(self, name, age):\n",
    "        print(\"Step 2. Initizalize a new instance of Cat1\")\n",
    "        self.__validateAge(age)\n",
    "        self.__name = name\n",
    "        self.__age = age\n",
    "        \n",
    "    def __validateAge(self, age):\n",
    "        if(age < 0):\n",
    "            raise ValueError(\"Invalid age!!!\")\n",
    "        \n",
    "    @property\n",
    "    def name(self):\n",
    "        print(\"Inside a getter\")\n",
    "        return self.__name\n",
    "    \n",
    "    @property\n",
    "    def age(self):\n",
    "        return self.__name  \n",
    "    \n",
    "    @age.setter\n",
    "    def age(self, age):\n",
    "        self.__validateAge(age)\n",
    "        self.__age = age\n",
    "        \n",
    "    def info(self):\n",
    "        print(f\"I am a cat. My name is {self.__name}. I am {self.__age} years old.\")"
   ]
  },
  {
   "cell_type": "code",
   "execution_count": 2,
   "id": "15b675fe",
   "metadata": {},
   "outputs": [
    {
     "name": "stdout",
     "output_type": "stream",
     "text": [
      "Step 1. Create a new instance of Cat1\n",
      "Step 2. Initizalize a new instance of Cat1\n",
      "I am a cat. My name is Kayla. I am 2 years old.\n",
      "Step 1. Create a new instance of Cat1\n",
      "Step 2. Initizalize a new instance of Cat1\n",
      "I am a cat. My name is Raschid. I am 1 years old.\n"
     ]
    }
   ],
   "source": [
    "cat3 = Cat('Kayla', 2)\n",
    "cat3.info()\n",
    "\n",
    "cat4 = Cat('Raschid', 1)\n",
    "#cat4 = Cat('Raschid', -1)\n",
    "#cat4.name = \"NewName\"\n",
    "cat4.info()\n",
    "\n",
    "#cat4.age = 5\n",
    "#cat4.info()\n",
    "#cat4.__validateAge(5)"
   ]
  },
  {
   "cell_type": "code",
   "execution_count": 3,
   "id": "a65fff75",
   "metadata": {},
   "outputs": [],
   "source": [
    "#Classe apenas personalizando o método init()\n",
    "class Cat:\n",
    "    \n",
    "    def __init__(self, name, age):\n",
    "        self.__validateAge(age)\n",
    "        self.__name = name\n",
    "        self.__age = age\n",
    "        \n",
    "    def __validateAge(self, age):\n",
    "        if(age < 0):\n",
    "            raise ValueError(\"Invalid age!!!\")\n",
    "        \n",
    "    @property\n",
    "    def name(self):\n",
    "        print(\"Inside a getter\")\n",
    "        return self.__name\n",
    "    \n",
    "    @property\n",
    "    def age(self):\n",
    "        return self.__name  \n",
    "    \n",
    "    @age.setter\n",
    "    def age(self, age):\n",
    "        self.__validateAge(age)\n",
    "        self.__age = age\n",
    "        \n",
    "    def info(self):\n",
    "        print(f\"I am a cat. My name is {self.__name}. I am {self.__age} years old.\")"
   ]
  },
  {
   "cell_type": "code",
   "execution_count": 4,
   "id": "4b71bed4",
   "metadata": {},
   "outputs": [
    {
     "name": "stdout",
     "output_type": "stream",
     "text": [
      "I am a cat. My name is Shoyu. I am 1 years old.\n"
     ]
    }
   ],
   "source": [
    "cat5 = Cat('Shoyu', 1)\n",
    "cat5.info()"
   ]
  }
 ],
 "metadata": {
  "kernelspec": {
   "display_name": "Python 3",
   "language": "python",
   "name": "python3"
  },
  "language_info": {
   "codemirror_mode": {
    "name": "ipython",
    "version": 3
   },
   "file_extension": ".py",
   "mimetype": "text/x-python",
   "name": "python",
   "nbconvert_exporter": "python",
   "pygments_lexer": "ipython3",
   "version": "3.8.8"
  }
 },
 "nbformat": 4,
 "nbformat_minor": 5
}
