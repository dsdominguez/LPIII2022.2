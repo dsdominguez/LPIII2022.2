{
 "cells": [
  {
   "cell_type": "code",
   "execution_count": 3,
   "id": "c3c70b4a",
   "metadata": {},
   "outputs": [],
   "source": [
    "# Implementação da classe Cats\n",
    "class Cat:\n",
    "    def __init__(self):\n",
    "        self.name = ''\n",
    "        self.age = 0\n",
    "        \n",
    "    def info(self):\n",
    "        print(f\"I am a cat. My name is {self.name}. I am {self.age} years old.\")\n",
    "        \n",
    "    def makeSound(self):\n",
    "        print(\"Meow\")"
   ]
  },
  {
   "cell_type": "code",
   "execution_count": 4,
   "id": "8aaf14f5",
   "metadata": {},
   "outputs": [
    {
     "name": "stdout",
     "output_type": "stream",
     "text": [
      "I am a cat. My name is Kayla. I am 2 years old.\n",
      "I am a cat. My name is Raschid. I am 1 years old.\n",
      "Meow\n"
     ]
    }
   ],
   "source": [
    "# Uso da classe Cats\n",
    "cat1 = Cat()\n",
    "cat1.name = \"Kayla\"\n",
    "cat1.age = 2\n",
    "cat1.info()\n",
    "\n",
    "cat2 = Cat()\n",
    "cat2.name = 'Raschid'\n",
    "cat2.age = 1\n",
    "cat2.info();\n",
    "cat2.makeSound()"
   ]
  }
 ],
 "metadata": {
  "kernelspec": {
   "display_name": "Python 3",
   "language": "python",
   "name": "python3"
  },
  "language_info": {
   "codemirror_mode": {
    "name": "ipython",
    "version": 3
   },
   "file_extension": ".py",
   "mimetype": "text/x-python",
   "name": "python",
   "nbconvert_exporter": "python",
   "pygments_lexer": "ipython3",
   "version": "3.8.8"
  }
 },
 "nbformat": 4,
 "nbformat_minor": 5
}
