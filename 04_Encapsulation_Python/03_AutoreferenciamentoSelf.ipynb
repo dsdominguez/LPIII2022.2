{
 "cells": [
  {
   "cell_type": "code",
   "execution_count": 5,
   "id": "1707d320",
   "metadata": {},
   "outputs": [],
   "source": [
    "class Cat:\n",
    "    def __init__(self):\n",
    "        self.__name = ''\n",
    "        self.__age = 0\n",
    "        \n",
    "    @property\n",
    "    def name(self):\n",
    "        print(\"Inside a getter\")\n",
    "        return self.__name\n",
    "    \n",
    "    @property\n",
    "    def age(self):\n",
    "        return self.__name\n",
    "    \n",
    "    @name.setter\n",
    "    def name(self, name):\n",
    "        print(\"Inside a setter\")\n",
    "        self.__name = name\n",
    "    \n",
    "    @age.setter\n",
    "    def age(self, age):\n",
    "        if(age < 0):\n",
    "            raise ValueError(\"Invalid age!!!\")\n",
    "        self.__age = age    \n",
    "        \n",
    "    def info(self):\n",
    "        print(f\"I am a cat. My name is {self.__name}. I am {self.__age} years old.\")\n",
    "        \n",
    "    def makeSound(self):\n",
    "        print(\"Meow\")"
   ]
  },
  {
   "cell_type": "code",
   "execution_count": 6,
   "id": "9bf7981d",
   "metadata": {},
   "outputs": [
    {
     "name": "stdout",
     "output_type": "stream",
     "text": [
      "Inside a setter\n",
      "I am a cat. My name is Kayla. I am 2 years old.\n",
      "Meow\n",
      "Inside a getter\n",
      "Kayla\n"
     ]
    }
   ],
   "source": [
    "cat1 = Cat()\n",
    "cat1.name = 'Kayla'\n",
    "cat1.age = 2\n",
    "cat1.info()\n",
    "cat1.makeSound()\n",
    "print(cat1.name)"
   ]
  }
 ],
 "metadata": {
  "kernelspec": {
   "display_name": "Python 3",
   "language": "python",
   "name": "python3"
  },
  "language_info": {
   "codemirror_mode": {
    "name": "ipython",
    "version": 3
   },
   "file_extension": ".py",
   "mimetype": "text/x-python",
   "name": "python",
   "nbconvert_exporter": "python",
   "pygments_lexer": "ipython3",
   "version": "3.8.8"
  }
 },
 "nbformat": 4,
 "nbformat_minor": 5
}
