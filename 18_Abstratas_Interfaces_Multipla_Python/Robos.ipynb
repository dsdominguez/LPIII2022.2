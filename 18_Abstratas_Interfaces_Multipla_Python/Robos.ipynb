{
 "cells": [
  {
   "cell_type": "markdown",
   "id": "868cda1a",
   "metadata": {},
   "source": [
    "## Classes abstratas em Python\n",
    "\n",
    "Exemplo classe abstrata em Python a partir de uma implementação de Robots\n",
    "\n",
    "<img align=\"left\" style=\"display: block; margin-left:auto; margin-right:auto;\" src=\"Abstratas_Interfaces.png\">\n",
    "\n",
    "A classe `RoboAbstrato` com o método abstrato `move(self, steps)` "
   ]
  },
  {
   "cell_type": "code",
   "execution_count": 1,
   "id": "0a00d418",
   "metadata": {},
   "outputs": [],
   "source": [
    "from abc import ABC, abstractmethod\n",
    " \n",
    "class RoboAbstrato(ABC):\n",
    "    \n",
    "    def __init__(self, name, px, py, direction):\n",
    "        self._name = name\n",
    "        self.__posX = px\n",
    "        self.__posY = py\n",
    "        self.__dirActual = direction\n",
    "\n",
    "    @abstractmethod\n",
    "    def move(self, steps):\n",
    "        pass\n",
    "    \n",
    "    def _moveX(self, steps):\n",
    "        self.__posX += steps\n",
    "        \n",
    "    def _moveY(self, steps):\n",
    "        self.__posY += steps\n",
    "        \n",
    "    def changeDirection(self, direction):\n",
    "        self.__dirActual = direction\n",
    "        \n",
    "    def getDirActual(self):\n",
    "        return self.__dirActual\n",
    "    \n",
    "    def toString(self):\n",
    "        return (f\"Nome do robo: {self._name}\\nPosição:({self.__posX}, {self.__posY})\\nDireção: {self.__dirActual}\")\n",
    " \n"
   ]
  },
  {
   "cell_type": "markdown",
   "id": "8ad0d096",
   "metadata": {},
   "source": [
    "A classe `RoboSimples` desecendente da classe abstrata `RoboAbstrato`\n",
    "\n",
    "Se a classe `RoboSimples` não implementar o método `move(self, steps)` teremos um erro ao tentarmos instanciar o objeto."
   ]
  },
  {
   "cell_type": "code",
   "execution_count": 6,
   "id": "7b6e4a8c",
   "metadata": {},
   "outputs": [],
   "source": [
    "class RoboSimples(RoboAbstrato):\n",
    "    def __init__(self, name, px, py, direction):\n",
    "        super().__init__(name, px, py, direction)\n",
    "    \n",
    "    #def error(self, steps): \n",
    "    def move(self, steps):\n",
    "        if(self.getDirActual()==0):\n",
    "            self._moveX(steps)\n",
    "        elif(self.getDirActual()==90):\n",
    "            self._moveY(steps)\n",
    "        elif(self.getDirActual()==180):\n",
    "            self._moveX(-steps)\n",
    "        elif (self.getDirActual()==270):\n",
    "            self._moveY(-steps)\n",
    "            "
   ]
  },
  {
   "cell_type": "markdown",
   "id": "62d5e2fd",
   "metadata": {},
   "source": [
    "Exemplo de utilização da classe `RoboSimples`"
   ]
  },
  {
   "cell_type": "code",
   "execution_count": 9,
   "id": "3bbec006",
   "metadata": {
    "scrolled": true
   },
   "outputs": [
    {
     "name": "stdout",
     "output_type": "stream",
     "text": [
      "Nome do robo: Explorer\n",
      "Posição:(0, 0)\n",
      "Direção: 90\n",
      "\n",
      "Nome do robo: Explorer\n",
      "Posição:(0, 10)\n",
      "Direção: 90\n",
      "\n",
      "Nome do robo: Explorer\n",
      "Posição:(-2, 10)\n",
      "Direção: 180\n",
      "\n"
     ]
    }
   ],
   "source": [
    "exp = RoboSimples(\"Explorer\", 0, 0, 90)\n",
    "print(exp.toString()+\"\\n\")\n",
    "\n",
    "exp.move(10)\n",
    "print(exp.toString()+\"\\n\")\n",
    "\n",
    "exp.changeDirection(180)\n",
    "exp.move(1)\n",
    "exp.move(1)\n",
    "print(exp.toString()+\"\\n\")\n",
    "\n",
    "#error = RoboAbstrato(\"Explorer\", 0, 0, 90)"
   ]
  },
  {
   "cell_type": "markdown",
   "id": "d0b4c70a",
   "metadata": {},
   "source": [
    "A classe `RoboCombateria` desecendente da classe abstrata `RoboAbstrato`"
   ]
  },
  {
   "cell_type": "code",
   "execution_count": 10,
   "id": "1f4f2caa",
   "metadata": {},
   "outputs": [],
   "source": [
    "class RoboComBateria(RoboAbstrato):\n",
    "    def __init__(self, name, px, py, direction, energy):\n",
    "        super().__init__(name, px, py, direction)\n",
    "        self.__energy = energy\n",
    "        \n",
    "    def move(self, steps):        \n",
    "        if(steps*10 <= self.__energy):\n",
    "            if(self.getDirActual()==0):\n",
    "                self._moveX(steps)\n",
    "            elif(self.getDirActual()==90):\n",
    "                self._moveY(steps)\n",
    "            elif(self.getDirActual()==180):\n",
    "                self._moveX(-steps)\n",
    "            elif (self.getDirActual()==270):\n",
    "                self._moveY(-steps)\n",
    "            self.__energy -= steps*10     \n",
    "        else:\n",
    "            print(f\"Robo {self._name} sem energia!!!\")\n",
    "            \n",
    "    def toString(self):\n",
    "        return (f\"{super().toString()} \\nEnergia: {self.__energy}\")"
   ]
  },
  {
   "cell_type": "markdown",
   "id": "b6787766",
   "metadata": {},
   "source": [
    "Exemplo de utilização da classe `RoboComBateria`"
   ]
  },
  {
   "cell_type": "code",
   "execution_count": 12,
   "id": "e0b5c7bf",
   "metadata": {},
   "outputs": [
    {
     "name": "stdout",
     "output_type": "stream",
     "text": [
      "Nome do robo: Walker\n",
      "Posição:(0, 0)\n",
      "Direção: 90 \n",
      "Energia: 105\n",
      "\n",
      "Nome do robo: Walker\n",
      "Posição:(0, 10)\n",
      "Direção: 90 \n",
      "Energia: 5\n",
      "\n",
      "Robo Walker sem energia!!!\n",
      "Robo Walker sem energia!!!\n",
      "Nome do robo: Walker\n",
      "Posição:(0, 10)\n",
      "Direção: 180 \n",
      "Energia: 5\n",
      "\n"
     ]
    }
   ],
   "source": [
    "walk = RoboComBateria(\"Walker\",0, 0, 90, 105)\n",
    "print(walk.toString()+\"\\n\")\n",
    "\n",
    "walk.move(10)\n",
    "print(walk.toString()+\"\\n\")\n",
    "\n",
    "walk.changeDirection(180)\n",
    "walk.move(1)\n",
    "walk.move(1)\n",
    "print(walk.toString()+\"\\n\")"
   ]
  },
  {
   "cell_type": "code",
   "execution_count": 31,
   "id": "ee454d8d",
   "metadata": {},
   "outputs": [
    {
     "name": "stdout",
     "output_type": "stream",
     "text": [
      "Tipo do robo Walker: <class '__main__.RoboComBateria'>\n",
      "Tipo do robo Explorer: <class '__main__.RoboSimples'>\n",
      "\n",
      "Walker is RoboComBateria: True\n",
      "Walker is RoboComAbstrato: True\n",
      "Walker is RoboComBateria: False\n",
      "\n",
      "Walker is RoboComBateria: True\n"
     ]
    }
   ],
   "source": [
    "#Get the object type, type() returns the type of an object\n",
    "print(f'Tipo do robo Walker: {type(walk)}')\n",
    "print(f'Tipo do robo Explorer: {type(exp)}')\n",
    "print()\n",
    "\n",
    "#Verify the object type\n",
    "print(f'Walker is RoboComBateria: {isinstance(walk, RoboComBateria)}')\n",
    "print(f'Walker is RoboComAbstrato: {isinstance(walk, RoboAbstrato)}')\n",
    "print(f'Walker is RoboComBateria: {isinstance(walk, RoboSimples)}')\n",
    "print()\n",
    "\n",
    "#Verify the object type using type function\n",
    "print(f'Walker is RoboComBateria: {(type(walk) is RoboComBateria)}')"
   ]
  }
 ],
 "metadata": {
  "kernelspec": {
   "display_name": "Python 3 (ipykernel)",
   "language": "python",
   "name": "python3"
  },
  "language_info": {
   "codemirror_mode": {
    "name": "ipython",
    "version": 3
   },
   "file_extension": ".py",
   "mimetype": "text/x-python",
   "name": "python",
   "nbconvert_exporter": "python",
   "pygments_lexer": "ipython3",
   "version": "3.8.10"
  }
 },
 "nbformat": 4,
 "nbformat_minor": 5
}
