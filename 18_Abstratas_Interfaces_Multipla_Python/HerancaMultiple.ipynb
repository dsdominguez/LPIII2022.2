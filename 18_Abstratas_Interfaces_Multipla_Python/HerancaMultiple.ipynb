{
 "cells": [
  {
   "cell_type": "markdown",
   "id": "4fc33154",
   "metadata": {},
   "source": [
    "## Herança Múltipla em Python\n",
    "\n",
    "Exemplo de herança múltipla em Python usando o exemplo de círculo escalável\n",
    "\n",
    "Implementação da classe `Ponto2D` usada como agregação ao criar a classe `Circle`."
   ]
  },
  {
   "cell_type": "code",
   "execution_count": 1,
   "id": "3d689c74",
   "metadata": {},
   "outputs": [],
   "source": [
    "class Ponto2D:\n",
    "    def __init__(self, x, y):\n",
    "        if(x==None):\n",
    "            self.__x = 0\n",
    "        else:    \n",
    "            self.__x = x\n",
    "        if(y==None):\n",
    "            self.__y = 0\n",
    "        else:    \n",
    "            self.__y = y\n",
    "        \n",
    "    def toString(self):\n",
    "        return(f\"({self.__x}, {self.__y})\")\n",
    "    \n",
    "    @property\n",
    "    def x(self):\n",
    "        return self.__x\n",
    "    \n",
    "    @property\n",
    "    def y(self):\n",
    "        return self.__y"
   ]
  },
  {
   "cell_type": "markdown",
   "id": "2d013901",
   "metadata": {},
   "source": [
    "Implementação da interface `Shape2D` usando mecanismo de exceção"
   ]
  },
  {
   "cell_type": "code",
   "execution_count": 2,
   "id": "63684467",
   "metadata": {},
   "outputs": [],
   "source": [
    "class Shape2D:\n",
    "    \n",
    "    def center(self):\n",
    "        raise NotImplementedError(\"Deve implementar o método center()\")\n",
    "        \n",
    "    def calArea(self):\n",
    "        raise NotImplementedError(\"Deve implementar o método calArea()\")\n",
    "        \n",
    "    def calPerimeter(self):\n",
    "        raise NotImplementedError(\"Deve implementar o método calPerimeter()\")"
   ]
  },
  {
   "cell_type": "markdown",
   "id": "ca95c7e1",
   "metadata": {},
   "source": [
    "Implementação da interface `Scalavel` usando mecanismo de exceção"
   ]
  },
  {
   "cell_type": "code",
   "execution_count": 3,
   "id": "50a77186",
   "metadata": {},
   "outputs": [],
   "source": [
    "class Scalavel():\n",
    "    def changeSize(self, scale):\n",
    "        raise NotImplementedError(\"Deve implementar o método changeSize()\")\n",
    "        \n",
    "    def reflectShape(self):\n",
    "        raise NotImplementedError(\"Deve implementar o método reflectShape()\")"
   ]
  },
  {
   "cell_type": "markdown",
   "id": "4e4306fe",
   "metadata": {},
   "source": [
    "Implementando a classe `CircleScalavel` que herda simultaneamente das classe `Shape2D` e `Scalavel`"
   ]
  },
  {
   "cell_type": "code",
   "execution_count": 4,
   "id": "91427d97",
   "metadata": {},
   "outputs": [],
   "source": [
    "import math\n",
    "\n",
    "class CircleScalavel(Shape2D, Scalavel):\n",
    "    def __init__(self, pc, r):\n",
    "        self.__center = pc\n",
    "        self.__radius = r\n",
    "        \n",
    "    def center(self):\n",
    "        return self.__center\n",
    "    \n",
    "    def calArea(self):\n",
    "        return math.pi*self.__radius*self.__radius\n",
    "        \n",
    "    def calPerimeter(self):\n",
    "        return 2*math.pi*self.__radius\n",
    "        \n",
    "    def toString(self):\n",
    "        return (f\"Circle: [center={self.__center.toString()}, radius={self.__radius}]\")\n",
    "    \n",
    "    def changeSize(self, scale):\n",
    "        self.__radius *= scale;\n",
    "        \n",
    "    def reflectShape(self):\n",
    "        self.__center = Ponto2D(-self.__center.x, self.__center.y)\n",
    "        \n",
    "    def toStringAll(self):\n",
    "        return (f\"Circle: [center={self.__center.toString()}, radius={self.__radius}]\\nPerimeter: {self.calPerimeter()}\\nArea: {self.calArea()}\\n\")    "
   ]
  },
  {
   "cell_type": "markdown",
   "id": "c470b0b2",
   "metadata": {},
   "source": [
    "Exemplo de uso da classe `CircleScalavel`"
   ]
  },
  {
   "cell_type": "code",
   "execution_count": 5,
   "id": "154ca034",
   "metadata": {},
   "outputs": [
    {
     "name": "stdout",
     "output_type": "stream",
     "text": [
      "Circle: [center=(1, 1), radius=10]\n",
      "Perimeter: 62.83185307179586\n",
      "Area: 314.1592653589793\n",
      "\n",
      "\n",
      "Circle: [center=(1, 1), radius=20]\n",
      "Perimeter: 125.66370614359172\n",
      "Area: 1256.6370614359173\n",
      "\n",
      "\n",
      "Circle: [center=(-1, 1), radius=20]\n",
      "Perimeter: 125.66370614359172\n",
      "Area: 1256.6370614359173\n",
      "\n",
      "\n"
     ]
    }
   ],
   "source": [
    "c1 = CircleScalavel(Ponto2D(1, 1), 10)\n",
    "print(c1.toStringAll()+\"\\n\")\n",
    "\n",
    "c1.changeSize(2)\n",
    "print(c1.toStringAll()+\"\\n\")\n",
    "\n",
    "c1.reflectShape()\n",
    "print(c1.toStringAll()+\"\\n\")"
   ]
  }
 ],
 "metadata": {
  "kernelspec": {
   "display_name": "Python 3 (ipykernel)",
   "language": "python",
   "name": "python3"
  },
  "language_info": {
   "codemirror_mode": {
    "name": "ipython",
    "version": 3
   },
   "file_extension": ".py",
   "mimetype": "text/x-python",
   "name": "python",
   "nbconvert_exporter": "python",
   "pygments_lexer": "ipython3",
   "version": "3.8.10"
  }
 },
 "nbformat": 4,
 "nbformat_minor": 5
}
