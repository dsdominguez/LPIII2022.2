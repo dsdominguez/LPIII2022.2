{
 "cells": [
  {
   "cell_type": "code",
   "execution_count": 4,
   "id": "cc9b10de",
   "metadata": {},
   "outputs": [],
   "source": [
    "\"\"\"\"\n",
    "Por motivos de simplicidade temos omitido nesta implementação: \n",
    " - o método makeSound()\n",
    " - os métodos Getter() e Setter para um encapsulamento apropriado dos atributos\n",
    "\"\"\"\"\n",
    "\n",
    "#Class Cat\n",
    "class Cat:\n",
    "    \n",
    "    #Constructor - example method overload\n",
    "    def __init__(self, name = None, age = -1):\n",
    "        if (name != None):\n",
    "            self.__name = name\n",
    "        else:    \n",
    "            self.__name = \"SemNome\"\n",
    "            \n",
    "        if(age != -1):\n",
    "            self.__age = age\n",
    "        else:\n",
    "            self.__age = 0\n",
    "        \n",
    "    #Print cat\n",
    "    def info(self):\n",
    "        print(f\"I am a cat. My name is {self.__name}. I am {self.__age} years old.\")"
   ]
  },
  {
   "cell_type": "code",
   "execution_count": 5,
   "id": "5d2d6511",
   "metadata": {},
   "outputs": [
    {
     "name": "stdout",
     "output_type": "stream",
     "text": [
      "I am a cat. My name is Kayla. I am 2 years old.\n",
      "I am a cat. My name is Raschid. I am 0 years old.\n",
      "I am a cat. My name is 2. I am 0 years old.\n",
      "I am a cat. My name is SemNome. I am 0 years old.\n"
     ]
    }
   ],
   "source": [
    "#Constructor with two parameters\n",
    "cat1 = Cat('Kayla', 2)\n",
    "cat1.info()\n",
    "\n",
    "#Constructor with one parameter name\n",
    "cat2 = Cat('Raschid')\n",
    "cat2.info()\n",
    "\n",
    "#Constructor with one parameter age\n",
    "cat3 = Cat(2)\n",
    "cat3.info()\n",
    "\n",
    "#Constructor without parameters \n",
    "cat4 = Cat()\n",
    "cat4.info()"
   ]
  },
  {
   "cell_type": "code",
   "execution_count": 6,
   "id": "ff0af523",
   "metadata": {},
   "outputs": [
    {
     "name": "stdout",
     "output_type": "stream",
     "text": [
      "I am a cat. My name is SemNome. I am 2 years old.\n"
     ]
    }
   ],
   "source": [
    "#Constructor with one parameter age, right call\n",
    "cat3 = Cat(age = 2)\n",
    "cat3.info()"
   ]
  },
  {
   "cell_type": "code",
   "execution_count": 7,
   "id": "e27f2e5a",
   "metadata": {},
   "outputs": [],
   "source": [
    "#Class Cat\n",
    "class CatComplex:\n",
    "    \n",
    "    #Constructor - example method overload\n",
    "    def __init__(self, name = None, age = -1, otherCat = None):\n",
    "        if otherCat != None:\n",
    "            self.__name = otherCat.__name\n",
    "            self.__age = otherCat.__age\n",
    "        else:    \n",
    "            if (name != None):\n",
    "                self.__name = name\n",
    "            else:    \n",
    "                self.__name = \"SemNome\"\n",
    "            if(age != -1):\n",
    "                self.__age = age\n",
    "            else:\n",
    "                self.__age = 0\n",
    "        \n",
    "    #Print cat\n",
    "    def info(self):\n",
    "        print(f\"I am a cat. My name is {self.__name}. I am {self.__age} years old.\")"
   ]
  },
  {
   "cell_type": "code",
   "execution_count": 8,
   "id": "9f7cb0e2",
   "metadata": {},
   "outputs": [
    {
     "name": "stdout",
     "output_type": "stream",
     "text": [
      "I am a cat. My name is Kayla. I am 2 years old.\n",
      "I am a cat. My name is Raschid. I am 0 years old.\n",
      "I am a cat. My name is SemNome. I am 2 years old.\n",
      "I am a cat. My name is SemNome. I am 0 years old.\n",
      "I am a cat. My name is Kayla. I am 2 years old.\n"
     ]
    }
   ],
   "source": [
    "#Constructor with two parameters\n",
    "cat1 = CatComplex('Kayla', 2)\n",
    "cat1.info()\n",
    "\n",
    "#Constructor with one parameter name\n",
    "cat2 = CatComplex('Raschid')\n",
    "cat2.info()\n",
    "\n",
    "#Constructor with one parameter age\n",
    "cat3 = CatComplex(age = 2)\n",
    "cat3.info()\n",
    "\n",
    "#Constructor without parameters \n",
    "cat4 = CatComplex()\n",
    "cat4.info()\n",
    "\n",
    "#Constructor without parameters \n",
    "cat5 = CatComplex(otherCat = cat1)\n",
    "cat5.info()"
   ]
  }
 ],
 "metadata": {
  "kernelspec": {
   "display_name": "Python 3",
   "language": "python",
   "name": "python3"
  },
  "language_info": {
   "codemirror_mode": {
    "name": "ipython",
    "version": 3
   },
   "file_extension": ".py",
   "mimetype": "text/x-python",
   "name": "python",
   "nbconvert_exporter": "python",
   "pygments_lexer": "ipython3",
   "version": "3.8.8"
  }
 },
 "nbformat": 4,
 "nbformat_minor": 5
}
