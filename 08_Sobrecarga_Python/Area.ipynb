{
 "cells": [
  {
   "cell_type": "code",
   "execution_count": 1,
   "id": "e3548474",
   "metadata": {},
   "outputs": [],
   "source": [
    "# class\n",
    "class GeometricCalculatorWrong:\n",
    "           \n",
    "    # square area method\n",
    "    def area(self, x):\n",
    "            return x * x    \n",
    "        \n",
    "   # retangular area method\n",
    "    def area(self, x, y):\n",
    "            return x * y     \n",
    "        "
   ]
  },
  {
   "cell_type": "code",
   "execution_count": 3,
   "id": "d0a62de3",
   "metadata": {},
   "outputs": [
    {
     "name": "stdout",
     "output_type": "stream",
     "text": [
      "Area Value: 15\n"
     ]
    }
   ],
   "source": [
    "# object\n",
    "obj = GeometricCalculatorWrong()\n",
    "\n",
    "# one argument\n",
    "print(\"Area Value:\", obj.area(4))\n",
    "\n",
    "# two argument\n",
    "print(\"Area Value:\", obj.area(3, 5))"
   ]
  },
  {
   "cell_type": "markdown",
   "id": "000d6e08",
   "metadata": {},
   "source": [
    "A segunda definição do método area com um parâmetro oculta a primeira definição.\n",
    "\n",
    "Faça testes mudando a ordem na definição dos métodos.\n",
    "\n",
    "Como implementar sobrecarga de métodos em Python?"
   ]
  },
  {
   "cell_type": "code",
   "execution_count": 4,
   "id": "9b415dd7",
   "metadata": {},
   "outputs": [],
   "source": [
    "# class\n",
    "class GeometricCalculator:\n",
    "    # area method\n",
    "    def area(self, x = None, y = None):\n",
    "        if x != None and y != None:\n",
    "            return x * y\n",
    "        elif x != None:\n",
    "            return x * x\n",
    "        else:\n",
    "            return 0\n",
    "\n"
   ]
  },
  {
   "cell_type": "code",
   "execution_count": 5,
   "id": "5b20152d",
   "metadata": {},
   "outputs": [
    {
     "name": "stdout",
     "output_type": "stream",
     "text": [
      "Area Value: 0\n",
      "Area Value: 16\n",
      "Area Value: 15\n"
     ]
    }
   ],
   "source": [
    "# object\n",
    "obj = GeometricCalculator()\n",
    "\n",
    "# zero argument\n",
    "print(\"Area Value:\", obj.area())\n",
    "\n",
    "# one argument\n",
    "print(\"Area Value:\", obj.area(4))\n",
    "\n",
    "# two argument\n",
    "print(\"Area Value:\", obj.area(3, 5))"
   ]
  }
 ],
 "metadata": {
  "kernelspec": {
   "display_name": "Python 3",
   "language": "python",
   "name": "python3"
  },
  "language_info": {
   "codemirror_mode": {
    "name": "ipython",
    "version": 3
   },
   "file_extension": ".py",
   "mimetype": "text/x-python",
   "name": "python",
   "nbconvert_exporter": "python",
   "pygments_lexer": "ipython3",
   "version": "3.8.8"
  }
 },
 "nbformat": 4,
 "nbformat_minor": 5
}
